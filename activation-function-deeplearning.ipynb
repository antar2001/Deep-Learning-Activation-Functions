{
 "cells": [
  {
   "cell_type": "code",
   "execution_count": 1,
   "id": "dfb98bac",
   "metadata": {
    "_cell_guid": "b1076dfc-b9ad-4769-8c92-a6c4dae69d19",
    "_uuid": "8f2839f25d086af736a60e9eeb907d3b93b6e0e5",
    "execution": {
     "iopub.execute_input": "2024-09-05T07:09:10.279552Z",
     "iopub.status.busy": "2024-09-05T07:09:10.278294Z",
     "iopub.status.idle": "2024-09-05T07:09:10.726222Z",
     "shell.execute_reply": "2024-09-05T07:09:10.725082Z"
    },
    "papermill": {
     "duration": 0.461212,
     "end_time": "2024-09-05T07:09:10.729096",
     "exception": false,
     "start_time": "2024-09-05T07:09:10.267884",
     "status": "completed"
    },
    "tags": []
   },
   "outputs": [],
   "source": [
    "# This Python 3 environment comes with many helpful analytics libraries installed\n",
    "# It is defined by the kaggle/python Docker image: https://github.com/kaggle/docker-python\n",
    "# For example, here's several helpful packages to load\n",
    "\n",
    "import numpy as np # linear algebra\n",
    "import pandas as pd # data processing, CSV file I/O (e.g. pd.read_csv)\n",
    "\n",
    "# Input data files are available in the read-only \"../input/\" directory\n",
    "# For example, running this (by clicking run or pressing Shift+Enter) will list all files under the input directory\n",
    "\n",
    "import os\n",
    "for dirname, _, filenames in os.walk('/kaggle/input'):\n",
    "    for filename in filenames:\n",
    "        print(os.path.join(dirname, filename))\n",
    "\n",
    "# You can write up to 20GB to the current directory (/kaggle/working/) that gets preserved as output when you create a version using \"Save & Run All\" \n",
    "# You can also write temporary files to /kaggle/temp/, but they won't be saved outside of the current session"
   ]
  },
  {
   "cell_type": "code",
   "execution_count": 2,
   "id": "f5357cc1",
   "metadata": {
    "execution": {
     "iopub.execute_input": "2024-09-05T07:09:10.750213Z",
     "iopub.status.busy": "2024-09-05T07:09:10.749274Z",
     "iopub.status.idle": "2024-09-05T07:09:10.758914Z",
     "shell.execute_reply": "2024-09-05T07:09:10.755833Z"
    },
    "papermill": {
     "duration": 0.026175,
     "end_time": "2024-09-05T07:09:10.763589",
     "exception": false,
     "start_time": "2024-09-05T07:09:10.737414",
     "status": "completed"
    },
    "tags": []
   },
   "outputs": [],
   "source": [
    "def relu(x):\n",
    "    return np.maximum(0,x)"
   ]
  },
  {
   "cell_type": "code",
   "execution_count": 3,
   "id": "75b099e2",
   "metadata": {
    "execution": {
     "iopub.execute_input": "2024-09-05T07:09:10.781841Z",
     "iopub.status.busy": "2024-09-05T07:09:10.780804Z",
     "iopub.status.idle": "2024-09-05T07:09:10.789626Z",
     "shell.execute_reply": "2024-09-05T07:09:10.788328Z"
    },
    "papermill": {
     "duration": 0.021256,
     "end_time": "2024-09-05T07:09:10.792990",
     "exception": false,
     "start_time": "2024-09-05T07:09:10.771734",
     "status": "completed"
    },
    "tags": []
   },
   "outputs": [
    {
     "data": {
      "text/plain": [
       "0"
      ]
     },
     "execution_count": 3,
     "metadata": {},
     "output_type": "execute_result"
    }
   ],
   "source": [
    "relu(-10)"
   ]
  },
  {
   "cell_type": "code",
   "execution_count": 4,
   "id": "f059dccb",
   "metadata": {
    "execution": {
     "iopub.execute_input": "2024-09-05T07:09:10.811424Z",
     "iopub.status.busy": "2024-09-05T07:09:10.810496Z",
     "iopub.status.idle": "2024-09-05T07:09:10.817845Z",
     "shell.execute_reply": "2024-09-05T07:09:10.816697Z"
    },
    "papermill": {
     "duration": 0.019193,
     "end_time": "2024-09-05T07:09:10.820305",
     "exception": false,
     "start_time": "2024-09-05T07:09:10.801112",
     "status": "completed"
    },
    "tags": []
   },
   "outputs": [
    {
     "data": {
      "text/plain": [
       "5"
      ]
     },
     "execution_count": 4,
     "metadata": {},
     "output_type": "execute_result"
    }
   ],
   "source": [
    "relu(5)"
   ]
  },
  {
   "cell_type": "code",
   "execution_count": 5,
   "id": "23422795",
   "metadata": {
    "execution": {
     "iopub.execute_input": "2024-09-05T07:09:10.838705Z",
     "iopub.status.busy": "2024-09-05T07:09:10.838228Z",
     "iopub.status.idle": "2024-09-05T07:09:10.846894Z",
     "shell.execute_reply": "2024-09-05T07:09:10.845780Z"
    },
    "papermill": {
     "duration": 0.020854,
     "end_time": "2024-09-05T07:09:10.849501",
     "exception": false,
     "start_time": "2024-09-05T07:09:10.828647",
     "status": "completed"
    },
    "tags": []
   },
   "outputs": [
    {
     "data": {
      "text/plain": [
       "array([0, 0, 5, 0])"
      ]
     },
     "execution_count": 5,
     "metadata": {},
     "output_type": "execute_result"
    }
   ],
   "source": [
    "relu(np.array([-1,0,5,-55]))"
   ]
  },
  {
   "cell_type": "code",
   "execution_count": 6,
   "id": "b371cc38",
   "metadata": {
    "execution": {
     "iopub.execute_input": "2024-09-05T07:09:10.868522Z",
     "iopub.status.busy": "2024-09-05T07:09:10.867582Z",
     "iopub.status.idle": "2024-09-05T07:09:10.872898Z",
     "shell.execute_reply": "2024-09-05T07:09:10.871854Z"
    },
    "papermill": {
     "duration": 0.017369,
     "end_time": "2024-09-05T07:09:10.875186",
     "exception": false,
     "start_time": "2024-09-05T07:09:10.857817",
     "status": "completed"
    },
    "tags": []
   },
   "outputs": [],
   "source": [
    "def leaky_relu(x,alpha=0.01):\n",
    "    return np.where(x>0,x,x*alpha)"
   ]
  },
  {
   "cell_type": "code",
   "execution_count": 7,
   "id": "1c45d9c7",
   "metadata": {
    "execution": {
     "iopub.execute_input": "2024-09-05T07:09:10.893560Z",
     "iopub.status.busy": "2024-09-05T07:09:10.893146Z",
     "iopub.status.idle": "2024-09-05T07:09:10.900416Z",
     "shell.execute_reply": "2024-09-05T07:09:10.899291Z"
    },
    "papermill": {
     "duration": 0.019415,
     "end_time": "2024-09-05T07:09:10.902794",
     "exception": false,
     "start_time": "2024-09-05T07:09:10.883379",
     "status": "completed"
    },
    "tags": []
   },
   "outputs": [
    {
     "data": {
      "text/plain": [
       "array(10.)"
      ]
     },
     "execution_count": 7,
     "metadata": {},
     "output_type": "execute_result"
    }
   ],
   "source": [
    "leaky_relu(10)"
   ]
  },
  {
   "cell_type": "code",
   "execution_count": 8,
   "id": "ecd0fd3a",
   "metadata": {
    "execution": {
     "iopub.execute_input": "2024-09-05T07:09:10.921427Z",
     "iopub.status.busy": "2024-09-05T07:09:10.921025Z",
     "iopub.status.idle": "2024-09-05T07:09:10.928151Z",
     "shell.execute_reply": "2024-09-05T07:09:10.927111Z"
    },
    "papermill": {
     "duration": 0.019465,
     "end_time": "2024-09-05T07:09:10.930847",
     "exception": false,
     "start_time": "2024-09-05T07:09:10.911382",
     "status": "completed"
    },
    "tags": []
   },
   "outputs": [
    {
     "data": {
      "text/plain": [
       "array(-0.03)"
      ]
     },
     "execution_count": 8,
     "metadata": {},
     "output_type": "execute_result"
    }
   ],
   "source": [
    "leaky_relu(-3)"
   ]
  },
  {
   "cell_type": "code",
   "execution_count": 9,
   "id": "78a10ea4",
   "metadata": {
    "execution": {
     "iopub.execute_input": "2024-09-05T07:09:10.950562Z",
     "iopub.status.busy": "2024-09-05T07:09:10.949529Z",
     "iopub.status.idle": "2024-09-05T07:09:10.955183Z",
     "shell.execute_reply": "2024-09-05T07:09:10.954124Z"
    },
    "papermill": {
     "duration": 0.017899,
     "end_time": "2024-09-05T07:09:10.957390",
     "exception": false,
     "start_time": "2024-09-05T07:09:10.939491",
     "status": "completed"
    },
    "tags": []
   },
   "outputs": [],
   "source": [
    "def elu(x,alpha=0.1):\n",
    "    return np.where(x>0,x,alpha*(np.exp(x)-1))"
   ]
  },
  {
   "cell_type": "code",
   "execution_count": 10,
   "id": "5534bf31",
   "metadata": {
    "execution": {
     "iopub.execute_input": "2024-09-05T07:09:10.976147Z",
     "iopub.status.busy": "2024-09-05T07:09:10.975756Z",
     "iopub.status.idle": "2024-09-05T07:09:10.982973Z",
     "shell.execute_reply": "2024-09-05T07:09:10.981883Z"
    },
    "papermill": {
     "duration": 0.019481,
     "end_time": "2024-09-05T07:09:10.985412",
     "exception": false,
     "start_time": "2024-09-05T07:09:10.965931",
     "status": "completed"
    },
    "tags": []
   },
   "outputs": [
    {
     "data": {
      "text/plain": [
       "array(4.)"
      ]
     },
     "execution_count": 10,
     "metadata": {},
     "output_type": "execute_result"
    }
   ],
   "source": [
    "elu(4)"
   ]
  },
  {
   "cell_type": "code",
   "execution_count": 11,
   "id": "b456586f",
   "metadata": {
    "execution": {
     "iopub.execute_input": "2024-09-05T07:09:11.005188Z",
     "iopub.status.busy": "2024-09-05T07:09:11.004261Z",
     "iopub.status.idle": "2024-09-05T07:09:11.011765Z",
     "shell.execute_reply": "2024-09-05T07:09:11.010640Z"
    },
    "papermill": {
     "duration": 0.020277,
     "end_time": "2024-09-05T07:09:11.014365",
     "exception": false,
     "start_time": "2024-09-05T07:09:10.994088",
     "status": "completed"
    },
    "tags": []
   },
   "outputs": [
    {
     "data": {
      "text/plain": [
       "array(-0.06321206)"
      ]
     },
     "execution_count": 11,
     "metadata": {},
     "output_type": "execute_result"
    }
   ],
   "source": [
    "elu(-1)"
   ]
  },
  {
   "cell_type": "code",
   "execution_count": 12,
   "id": "592a182c",
   "metadata": {
    "execution": {
     "iopub.execute_input": "2024-09-05T07:09:11.034335Z",
     "iopub.status.busy": "2024-09-05T07:09:11.033358Z",
     "iopub.status.idle": "2024-09-05T07:09:11.041551Z",
     "shell.execute_reply": "2024-09-05T07:09:11.040369Z"
    },
    "papermill": {
     "duration": 0.020834,
     "end_time": "2024-09-05T07:09:11.044013",
     "exception": false,
     "start_time": "2024-09-05T07:09:11.023179",
     "status": "completed"
    },
    "tags": []
   },
   "outputs": [
    {
     "data": {
      "text/plain": [
       "array([-0.06321206,  0.        ,  1.        ,  2.        ])"
      ]
     },
     "execution_count": 12,
     "metadata": {},
     "output_type": "execute_result"
    }
   ],
   "source": [
    "elu(np.array([-1,0,1,2]))"
   ]
  },
  {
   "cell_type": "code",
   "execution_count": 13,
   "id": "5e67e7e8",
   "metadata": {
    "execution": {
     "iopub.execute_input": "2024-09-05T07:09:11.064996Z",
     "iopub.status.busy": "2024-09-05T07:09:11.064018Z",
     "iopub.status.idle": "2024-09-05T07:09:11.069229Z",
     "shell.execute_reply": "2024-09-05T07:09:11.068171Z"
    },
    "papermill": {
     "duration": 0.018478,
     "end_time": "2024-09-05T07:09:11.071679",
     "exception": false,
     "start_time": "2024-09-05T07:09:11.053201",
     "status": "completed"
    },
    "tags": []
   },
   "outputs": [],
   "source": [
    "def sigmoid(x):\n",
    "    return (1/(1+np.exp(-x)))"
   ]
  },
  {
   "cell_type": "code",
   "execution_count": 14,
   "id": "49d61924",
   "metadata": {
    "execution": {
     "iopub.execute_input": "2024-09-05T07:09:11.091583Z",
     "iopub.status.busy": "2024-09-05T07:09:11.090851Z",
     "iopub.status.idle": "2024-09-05T07:09:11.098487Z",
     "shell.execute_reply": "2024-09-05T07:09:11.097464Z"
    },
    "papermill": {
     "duration": 0.020636,
     "end_time": "2024-09-05T07:09:11.101291",
     "exception": false,
     "start_time": "2024-09-05T07:09:11.080655",
     "status": "completed"
    },
    "tags": []
   },
   "outputs": [
    {
     "data": {
      "text/plain": [
       "array([0.26894142, 0.5       , 0.73105858, 0.88079708])"
      ]
     },
     "execution_count": 14,
     "metadata": {},
     "output_type": "execute_result"
    }
   ],
   "source": [
    "sigmoid(np.array([-1,0,1,2]))"
   ]
  },
  {
   "cell_type": "code",
   "execution_count": 15,
   "id": "14340baa",
   "metadata": {
    "execution": {
     "iopub.execute_input": "2024-09-05T07:09:11.122191Z",
     "iopub.status.busy": "2024-09-05T07:09:11.121244Z",
     "iopub.status.idle": "2024-09-05T07:09:11.127106Z",
     "shell.execute_reply": "2024-09-05T07:09:11.126025Z"
    },
    "papermill": {
     "duration": 0.018985,
     "end_time": "2024-09-05T07:09:11.129576",
     "exception": false,
     "start_time": "2024-09-05T07:09:11.110591",
     "status": "completed"
    },
    "tags": []
   },
   "outputs": [],
   "source": [
    "def softmax(x):\n",
    "    e_x=np.exp(x-np.max(x))\n",
    "    return e_x/e_x.sum(axis=0)"
   ]
  },
  {
   "cell_type": "code",
   "execution_count": 16,
   "id": "62b7154e",
   "metadata": {
    "execution": {
     "iopub.execute_input": "2024-09-05T07:09:11.150555Z",
     "iopub.status.busy": "2024-09-05T07:09:11.149427Z",
     "iopub.status.idle": "2024-09-05T07:09:11.157651Z",
     "shell.execute_reply": "2024-09-05T07:09:11.156592Z"
    },
    "papermill": {
     "duration": 0.021274,
     "end_time": "2024-09-05T07:09:11.160141",
     "exception": false,
     "start_time": "2024-09-05T07:09:11.138867",
     "status": "completed"
    },
    "tags": []
   },
   "outputs": [
    {
     "data": {
      "text/plain": [
       "array([0.0320586 , 0.08714432, 0.23688282, 0.64391426])"
      ]
     },
     "execution_count": 16,
     "metadata": {},
     "output_type": "execute_result"
    }
   ],
   "source": [
    "p=softmax(np.array([-1,0,1,2]))\n",
    "p"
   ]
  },
  {
   "cell_type": "code",
   "execution_count": 17,
   "id": "e69e38fe",
   "metadata": {
    "execution": {
     "iopub.execute_input": "2024-09-05T07:09:11.181061Z",
     "iopub.status.busy": "2024-09-05T07:09:11.180617Z",
     "iopub.status.idle": "2024-09-05T07:09:11.187988Z",
     "shell.execute_reply": "2024-09-05T07:09:11.186852Z"
    },
    "papermill": {
     "duration": 0.020759,
     "end_time": "2024-09-05T07:09:11.190293",
     "exception": false,
     "start_time": "2024-09-05T07:09:11.169534",
     "status": "completed"
    },
    "tags": []
   },
   "outputs": [
    {
     "data": {
      "text/plain": [
       "1.0"
      ]
     },
     "execution_count": 17,
     "metadata": {},
     "output_type": "execute_result"
    }
   ],
   "source": [
    "sum(p)"
   ]
  },
  {
   "cell_type": "code",
   "execution_count": 18,
   "id": "51787533",
   "metadata": {
    "execution": {
     "iopub.execute_input": "2024-09-05T07:09:11.210797Z",
     "iopub.status.busy": "2024-09-05T07:09:11.210333Z",
     "iopub.status.idle": "2024-09-05T07:09:11.215757Z",
     "shell.execute_reply": "2024-09-05T07:09:11.214528Z"
    },
    "papermill": {
     "duration": 0.018644,
     "end_time": "2024-09-05T07:09:11.218273",
     "exception": false,
     "start_time": "2024-09-05T07:09:11.199629",
     "status": "completed"
    },
    "tags": []
   },
   "outputs": [],
   "source": [
    "def swish(x,beta=1):\n",
    "    return (x*sigmoid(beta*x))"
   ]
  },
  {
   "cell_type": "code",
   "execution_count": 19,
   "id": "ffad50de",
   "metadata": {
    "execution": {
     "iopub.execute_input": "2024-09-05T07:09:11.238966Z",
     "iopub.status.busy": "2024-09-05T07:09:11.238552Z",
     "iopub.status.idle": "2024-09-05T07:09:11.246456Z",
     "shell.execute_reply": "2024-09-05T07:09:11.245230Z"
    },
    "papermill": {
     "duration": 0.021045,
     "end_time": "2024-09-05T07:09:11.248893",
     "exception": false,
     "start_time": "2024-09-05T07:09:11.227848",
     "status": "completed"
    },
    "tags": []
   },
   "outputs": [
    {
     "data": {
      "text/plain": [
       "array([-0.26894142,  0.        ,  0.73105858,  1.76159416])"
      ]
     },
     "execution_count": 19,
     "metadata": {},
     "output_type": "execute_result"
    }
   ],
   "source": [
    "swish(np.array([-1,0,1,2]))"
   ]
  },
  {
   "cell_type": "code",
   "execution_count": 20,
   "id": "74a933e4",
   "metadata": {
    "execution": {
     "iopub.execute_input": "2024-09-05T07:09:11.269832Z",
     "iopub.status.busy": "2024-09-05T07:09:11.269413Z",
     "iopub.status.idle": "2024-09-05T07:09:11.274543Z",
     "shell.execute_reply": "2024-09-05T07:09:11.273453Z"
    },
    "papermill": {
     "duration": 0.018102,
     "end_time": "2024-09-05T07:09:11.276735",
     "exception": false,
     "start_time": "2024-09-05T07:09:11.258633",
     "status": "completed"
    },
    "tags": []
   },
   "outputs": [],
   "source": [
    "def tanh(x):\n",
    "    return np.tanh(x)"
   ]
  },
  {
   "cell_type": "code",
   "execution_count": 21,
   "id": "27d63833",
   "metadata": {
    "execution": {
     "iopub.execute_input": "2024-09-05T07:09:11.297889Z",
     "iopub.status.busy": "2024-09-05T07:09:11.297079Z",
     "iopub.status.idle": "2024-09-05T07:09:11.304280Z",
     "shell.execute_reply": "2024-09-05T07:09:11.303240Z"
    },
    "papermill": {
     "duration": 0.020465,
     "end_time": "2024-09-05T07:09:11.306673",
     "exception": false,
     "start_time": "2024-09-05T07:09:11.286208",
     "status": "completed"
    },
    "tags": []
   },
   "outputs": [
    {
     "data": {
      "text/plain": [
       "0.9999999958776927"
      ]
     },
     "execution_count": 21,
     "metadata": {},
     "output_type": "execute_result"
    }
   ],
   "source": [
    "tanh(10)"
   ]
  },
  {
   "cell_type": "code",
   "execution_count": 22,
   "id": "76c8ecca",
   "metadata": {
    "execution": {
     "iopub.execute_input": "2024-09-05T07:09:11.328423Z",
     "iopub.status.busy": "2024-09-05T07:09:11.327521Z",
     "iopub.status.idle": "2024-09-05T07:09:11.334846Z",
     "shell.execute_reply": "2024-09-05T07:09:11.333685Z"
    },
    "papermill": {
     "duration": 0.020903,
     "end_time": "2024-09-05T07:09:11.337247",
     "exception": false,
     "start_time": "2024-09-05T07:09:11.316344",
     "status": "completed"
    },
    "tags": []
   },
   "outputs": [
    {
     "data": {
      "text/plain": [
       "-0.7615941559557649"
      ]
     },
     "execution_count": 22,
     "metadata": {},
     "output_type": "execute_result"
    }
   ],
   "source": [
    "tanh(-1)"
   ]
  },
  {
   "cell_type": "code",
   "execution_count": null,
   "id": "c2dcd2ae",
   "metadata": {
    "papermill": {
     "duration": 0.009568,
     "end_time": "2024-09-05T07:09:11.356695",
     "exception": false,
     "start_time": "2024-09-05T07:09:11.347127",
     "status": "completed"
    },
    "tags": []
   },
   "outputs": [],
   "source": []
  }
 ],
 "metadata": {
  "kaggle": {
   "accelerator": "none",
   "dataSources": [],
   "dockerImageVersionId": 30761,
   "isGpuEnabled": false,
   "isInternetEnabled": false,
   "language": "python",
   "sourceType": "notebook"
  },
  "kernelspec": {
   "display_name": "Python 3",
   "language": "python",
   "name": "python3"
  },
  "language_info": {
   "codemirror_mode": {
    "name": "ipython",
    "version": 3
   },
   "file_extension": ".py",
   "mimetype": "text/x-python",
   "name": "python",
   "nbconvert_exporter": "python",
   "pygments_lexer": "ipython3",
   "version": "3.10.14"
  },
  "papermill": {
   "default_parameters": {},
   "duration": 4.521161,
   "end_time": "2024-09-05T07:09:11.888158",
   "environment_variables": {},
   "exception": null,
   "input_path": "__notebook__.ipynb",
   "output_path": "__notebook__.ipynb",
   "parameters": {},
   "start_time": "2024-09-05T07:09:07.366997",
   "version": "2.6.0"
  }
 },
 "nbformat": 4,
 "nbformat_minor": 5
}
